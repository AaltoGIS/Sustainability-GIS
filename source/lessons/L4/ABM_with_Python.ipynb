{
 "cells": [
  {
   "cell_type": "code",
   "execution_count": 1,
   "id": "e91fdb77-bfa1-402a-8559-80a6f8313509",
   "metadata": {},
   "outputs": [],
   "source": [
    "from mesa import Agent, Model\n",
    "from mesa.time import RandomActivation\n",
    "from mesa.space import MultiGrid\n",
    "from mesa.datacollection import DataCollector\n",
    "import mesa.batchrunner as batch_run\n",
    "\n",
    "from mesa.visualization.modules import CanvasGrid\n",
    "from mesa.visualization.ModularVisualization import ModularServer\n",
    "from mesa.visualization.modules import ChartModule\n",
    "\n",
    "def compute_gini(model):\n",
    "    agent_wealths = [agent.wealth for agent in model.schedule.agents]\n",
    "    x = sorted(agent_wealths)\n",
    "    N = model.num_agents\n",
    "    B = sum(xi * (N - i) for i, xi in enumerate(x)) / (N * sum(x))\n",
    "    return 1 + (1 / N) - 2 * B\n",
    "\n",
    "\n",
    "class MoneyAgent(Agent):\n",
    "    \"\"\"An agent with fixed initial wealth.\"\"\"\n",
    "\n",
    "    def __init__(self, unique_id, model):\n",
    "        super().__init__(unique_id, model)\n",
    "        self.wealth = 1\n",
    "\n",
    "    def step(self):\n",
    "        self.move()\n",
    "        if self.wealth > 0:\n",
    "            self.give_money()\n",
    "        \n",
    "    def move(self):\n",
    "        possible_steps = self.model.grid.get_neighborhood(\n",
    "            self.pos,\n",
    "            moore=True,\n",
    "            include_center=False)\n",
    "        new_position = self.random.choice(possible_steps)\n",
    "        self.model.grid.move_agent(self, new_position)\n",
    "        \n",
    "    def give_money(self):\n",
    "        cellmates = self.model.grid.get_cell_list_contents([self.pos])\n",
    "        if len(cellmates) > 1:\n",
    "            other = self.random.choice(cellmates)\n",
    "            other.wealth += 1\n",
    "            self.wealth -= 1\n",
    "    \n",
    "\n",
    "\n",
    "class MoneyModel(Model):\n",
    "    \"\"\"A model with some number of agents.\"\"\"\n",
    "\n",
    "    def __init__(self, N, width, height):\n",
    "        self.num_agents = N\n",
    "        self.grid = MultiGrid(width, height, True)\n",
    "        self.schedule = RandomActivation(self)\n",
    "        self.running = True\n",
    "\n",
    "        # Create agents\n",
    "        for i in range(self.num_agents):\n",
    "            a = MoneyAgent(i, self)\n",
    "            self.schedule.add(a)\n",
    "\n",
    "            # Add the agent to a random grid cell\n",
    "            x = self.random.randrange(self.grid.width)\n",
    "            y = self.random.randrange(self.grid.height)\n",
    "            self.grid.place_agent(a, (x, y))\n",
    "            \n",
    "        self.datacollector = DataCollector(\n",
    "            model_reporters={\"Gini\": compute_gini}, agent_reporters={\"Wealth\": \"wealth\"}\n",
    "        )\n",
    "        \n",
    "    def step(self):\n",
    "        self.datacollector.collect(self)\n",
    "        self.schedule.step()\n",
    "            \n",
    "            \n",
    "def agent_portrayal(agent):\n",
    "    portrayal = {\"Shape\": \"circle\",\n",
    "                 \"Filled\": \"true\",\n",
    "                 \"r\": 0.5}\n",
    "\n",
    "    if agent.wealth > 0:\n",
    "        portrayal[\"Color\"] = \"red\"\n",
    "        portrayal[\"Layer\"] = 0\n",
    "    else:\n",
    "        portrayal[\"Color\"] = \"grey\"\n",
    "        portrayal[\"Layer\"] = 1\n",
    "        portrayal[\"r\"] = 0.2\n",
    "    return portrayal"
   ]
  },
  {
   "cell_type": "code",
   "execution_count": 2,
   "id": "41370a16-5baa-413a-aaea-1b62bc6ad6e8",
   "metadata": {},
   "outputs": [
    {
     "data": {
      "text/plain": [
       "<AxesSubplot:>"
      ]
     },
     "execution_count": 2,
     "metadata": {},
     "output_type": "execute_result"
    },
    {
     "data": {
      "image/png": "[encoded data removed]",
      "text/plain": [
       "<Figure size 432x288 with 1 Axes>"
      ]
     },
     "metadata": {
      "needs_background": "light"
     },
     "output_type": "display_data"
    }
   ],
   "source": [
    "model = MoneyModel(50, 10, 10)\n",
    "for i in range(100):\n",
    "    model.step()\n",
    "    \n",
    "gini = model.datacollector.get_model_vars_dataframe()\n",
    "gini.plot()"
   ]
  },
  {
   "cell_type": "code",
   "execution_count": 3,
   "id": "ea1f00ff-9021-4428-97c6-a521e2bd32c9",
   "metadata": {},
   "outputs": [
    {
     "data": {
      "text/html": [
       "<div>\n",
       "<style scoped>\n",
       "    .dataframe tbody tr th:only-of-type {\n",
       "        vertical-align: middle;\n",
       "    }\n",
       "\n",
       "    .dataframe tbody tr th {\n",
       "        vertical-align: top;\n",
       "    }\n",
       "\n",
       "    .dataframe thead th {\n",
       "        text-align: right;\n",
       "    }\n",
       "</style>\n",
       "<table border=\"1\" class=\"dataframe\">\n",
       "  <thead>\n",
       "    <tr style=\"text-align: right;\">\n",
       "      <th></th>\n",
       "      <th></th>\n",
       "      <th>Wealth</th>\n",
       "    </tr>\n",
       "    <tr>\n",
       "      <th>Step</th>\n",
       "      <th>AgentID</th>\n",
       "      <th></th>\n",
       "    </tr>\n",
       "  </thead>\n",
       "  <tbody>\n",
       "    <tr>\n",
       "      <th rowspan=\"5\" valign=\"top\">0</th>\n",
       "      <th>0</th>\n",
       "      <td>1</td>\n",
       "    </tr>\n",
       "    <tr>\n",
       "      <th>1</th>\n",
       "      <td>1</td>\n",
       "    </tr>\n",
       "    <tr>\n",
       "      <th>2</th>\n",
       "      <td>1</td>\n",
       "    </tr>\n",
       "    <tr>\n",
       "      <th>3</th>\n",
       "      <td>1</td>\n",
       "    </tr>\n",
       "    <tr>\n",
       "      <th>4</th>\n",
       "      <td>1</td>\n",
       "    </tr>\n",
       "  </tbody>\n",
       "</table>\n",
       "</div>"
      ],
      "text/plain": [
       "              Wealth\n",
       "Step AgentID        \n",
       "0    0             1\n",
       "     1             1\n",
       "     2             1\n",
       "     3             1\n",
       "     4             1"
      ]
     },
     "execution_count": 3,
     "metadata": {},
     "output_type": "execute_result"
    }
   ],
   "source": [
    "agent_wealth = model.datacollector.get_agent_vars_dataframe()\n",
    "agent_wealth.head()"
   ]
  },
  {
   "cell_type": "code",
   "execution_count": 4,
   "id": "4836e511-c8bb-465a-a363-b27ec7357170",
   "metadata": {},
   "outputs": [
    {
     "data": {
      "text/plain": [
       "<AxesSubplot:>"
      ]
     },
     "execution_count": 4,
     "metadata": {},
     "output_type": "execute_result"
    },
    {
     "data": {
      "image/png": "[encoded data removed]",
      "text/plain": [
       "<Figure size 432x288 with 1 Axes>"
      ]
     },
     "metadata": {
      "needs_background": "light"
     },
     "output_type": "display_data"
    }
   ],
   "source": [
    "# Plot the wealth at the end of the simulation\n",
    "end_wealth = agent_wealth.xs(99, level=\"Step\")[\"Wealth\"]\n",
    "end_wealth.hist(bins=range(agent_wealth.Wealth.max() + 1))"
   ]
  },
  {
   "cell_type": "code",
   "execution_count": 5,
   "id": "f37f63bc-79e6-4a23-bee5-dd8624038008",
   "metadata": {},
   "outputs": [
    {
     "data": {
      "text/plain": [
       "<AxesSubplot:xlabel='Step'>"
      ]
     },
     "execution_count": 5,
     "metadata": {},
     "output_type": "execute_result"
    },
    {
     "data": {
      "image/png": "[encoded data removed]",
      "text/plain": [
       "<Figure size 432x288 with 1 Axes>"
      ]
     },
     "metadata": {
      "needs_background": "light"
     },
     "output_type": "display_data"
    }
   ],
   "source": [
    "# Plot the wealth of a specific agent\n",
    "one_agent_wealth = agent_wealth.xs(14, level=\"AgentID\")\n",
    "one_agent_wealth.Wealth.plot()"
   ]
  },
  {
   "cell_type": "code",
   "execution_count": 6,
   "id": "882cfb82-b2a1-4038-b10b-89b6f1b4c2d6",
   "metadata": {},
   "outputs": [
    {
     "name": "stderr",
     "output_type": "stream",
     "text": [
      "245it [00:12, 19.64it/s]\n"
     ]
    }
   ],
   "source": [
    "# Make a batch run\n",
    "# ----------------\n",
    "\n",
    "from mesa.batchrunner import batch_run\n",
    "\n",
    "# Parameters for the model\n",
    "params = {\"width\": 10, \"height\": 10, \"N\": range(10, 500, 10)}\n",
    "\n",
    "results = batch_run(\n",
    "    MoneyModel,\n",
    "    parameters=params,\n",
    "    iterations=5,\n",
    "    max_steps=100,\n",
    "    number_processes=None,\n",
    "    data_collection_period=1,\n",
    "    display_progress=True,\n",
    ")"
   ]
  },
  {
   "cell_type": "code",
   "execution_count": 7,
   "id": "3f3ea838-5d0a-4b5a-a193-92b400ee6068",
   "metadata": {},
   "outputs": [
    {
     "name": "stdout",
     "output_type": "stream",
     "text": [
      "Index(['RunId', 'iteration', 'Step', 'width', 'height', 'N', 'Gini', 'AgentID',\n",
      "       'Wealth'],\n",
      "      dtype='object')\n"
     ]
    }
   ],
   "source": [
    "import pandas as pd\n",
    "\n",
    "results_df = pd.DataFrame(results)\n",
    "print(results_df.keys())"
   ]
  },
  {
   "cell_type": "code",
   "execution_count": 8,
   "id": "079bca0c-d383-4a0d-8a6f-9af87fb9c8a3",
   "metadata": {},
   "outputs": [
    {
     "data": {
      "text/plain": [
       "<matplotlib.collections.PathCollection at 0x7f2840d89eb0>"
      ]
     },
     "execution_count": 8,
     "metadata": {},
     "output_type": "execute_result"
    },
    {
     "data": {
      "image/png": "[encoded data removed]",
      "text/plain": [
       "<Figure size 432x288 with 1 Axes>"
      ]
     },
     "metadata": {
      "needs_background": "light"
     },
     "output_type": "display_data"
    }
   ],
   "source": [
    "import matplotlib.pyplot as plt\n",
    "\n",
    "results_filtered = results_df[(results_df.AgentID == 0) & (results_df.Step == 100)]\n",
    "N_values = results_filtered.N.values\n",
    "gini_values = results_filtered.Gini.values\n",
    "plt.scatter(N_values, gini_values)"
   ]
  },
  {
   "cell_type": "code",
   "execution_count": 9,
   "id": "7e9867f4-1f2b-4a4c-a5d9-3f0888f5371c",
   "metadata": {},
   "outputs": [],
   "source": [
    "# Initialize the grid\n",
    "grid = CanvasGrid(agent_portrayal, 10, 10, 500, 500)"
   ]
  },
  {
   "cell_type": "code",
   "execution_count": 10,
   "id": "57f9df44-a381-44a5-8028-a650c6f0adf6",
   "metadata": {},
   "outputs": [
    {
     "name": "stdout",
     "output_type": "stream",
     "text": [
      "Interface starting at http://127.0.0.1:8522\n"
     ]
    },
    {
     "ename": "RuntimeError",
     "evalue": "This event loop is already running",
     "output_type": "error",
     "traceback": [
      "\u001b[0;31m---------------------------------------------------------------------------\u001b[0m",
      "\u001b[0;31mRuntimeError\u001b[0m                              Traceback (most recent call last)",
      "\u001b[0;32m/tmp/ipykernel_109810/2425018795.py\u001b[0m in \u001b[0;36m<module>\u001b[0;34m\u001b[0m\n\u001b[1;32m      9\u001b[0m \u001b[0;34m\u001b[0m\u001b[0m\n\u001b[1;32m     10\u001b[0m \u001b[0mserver\u001b[0m\u001b[0;34m.\u001b[0m\u001b[0mport\u001b[0m \u001b[0;34m=\u001b[0m \u001b[0;36m8522\u001b[0m \u001b[0;31m# The default\u001b[0m\u001b[0;34m\u001b[0m\u001b[0;34m\u001b[0m\u001b[0m\n\u001b[0;32m---> 11\u001b[0;31m \u001b[0mserver\u001b[0m\u001b[0;34m.\u001b[0m\u001b[0mlaunch\u001b[0m\u001b[0;34m(\u001b[0m\u001b[0;34m)\u001b[0m\u001b[0;34m;\u001b[0m\u001b[0;34m\u001b[0m\u001b[0;34m\u001b[0m\u001b[0m\n\u001b[0m",
      "\u001b[0;32m~/.conda/envs/mamba/envs/spatial-analytics/lib/python3.9/site-packages/mesa/visualization/ModularVisualization.py\u001b[0m in \u001b[0;36mlaunch\u001b[0;34m(self, port, open_browser)\u001b[0m\n\u001b[1;32m    335\u001b[0m             \u001b[0mwebbrowser\u001b[0m\u001b[0;34m.\u001b[0m\u001b[0mopen\u001b[0m\u001b[0;34m(\u001b[0m\u001b[0murl\u001b[0m\u001b[0;34m)\u001b[0m\u001b[0;34m\u001b[0m\u001b[0;34m\u001b[0m\u001b[0m\n\u001b[1;32m    336\u001b[0m         \u001b[0mtornado\u001b[0m\u001b[0;34m.\u001b[0m\u001b[0mautoreload\u001b[0m\u001b[0;34m.\u001b[0m\u001b[0mstart\u001b[0m\u001b[0;34m(\u001b[0m\u001b[0;34m)\u001b[0m\u001b[0;34m\u001b[0m\u001b[0;34m\u001b[0m\u001b[0m\n\u001b[0;32m--> 337\u001b[0;31m         \u001b[0mtornado\u001b[0m\u001b[0;34m.\u001b[0m\u001b[0mioloop\u001b[0m\u001b[0;34m.\u001b[0m\u001b[0mIOLoop\u001b[0m\u001b[0;34m.\u001b[0m\u001b[0mcurrent\u001b[0m\u001b[0;34m(\u001b[0m\u001b[0;34m)\u001b[0m\u001b[0;34m.\u001b[0m\u001b[0mstart\u001b[0m\u001b[0;34m(\u001b[0m\u001b[0;34m)\u001b[0m\u001b[0;34m\u001b[0m\u001b[0;34m\u001b[0m\u001b[0m\n\u001b[0m",
      "\u001b[0;32m~/.conda/envs/mamba/envs/spatial-analytics/lib/python3.9/site-packages/tornado/platform/asyncio.py\u001b[0m in \u001b[0;36mstart\u001b[0;34m(self)\u001b[0m\n\u001b[1;32m    197\u001b[0m             \u001b[0mself\u001b[0m\u001b[0;34m.\u001b[0m\u001b[0m_setup_logging\u001b[0m\u001b[0;34m(\u001b[0m\u001b[0;34m)\u001b[0m\u001b[0;34m\u001b[0m\u001b[0;34m\u001b[0m\u001b[0m\n\u001b[1;32m    198\u001b[0m             \u001b[0masyncio\u001b[0m\u001b[0;34m.\u001b[0m\u001b[0mset_event_loop\u001b[0m\u001b[0;34m(\u001b[0m\u001b[0mself\u001b[0m\u001b[0;34m.\u001b[0m\u001b[0masyncio_loop\u001b[0m\u001b[0;34m)\u001b[0m\u001b[0;34m\u001b[0m\u001b[0;34m\u001b[0m\u001b[0m\n\u001b[0;32m--> 199\u001b[0;31m             \u001b[0mself\u001b[0m\u001b[0;34m.\u001b[0m\u001b[0masyncio_loop\u001b[0m\u001b[0;34m.\u001b[0m\u001b[0mrun_forever\u001b[0m\u001b[0;34m(\u001b[0m\u001b[0;34m)\u001b[0m\u001b[0;34m\u001b[0m\u001b[0;34m\u001b[0m\u001b[0m\n\u001b[0m\u001b[1;32m    200\u001b[0m         \u001b[0;32mfinally\u001b[0m\u001b[0;34m:\u001b[0m\u001b[0;34m\u001b[0m\u001b[0;34m\u001b[0m\u001b[0m\n\u001b[1;32m    201\u001b[0m             \u001b[0masyncio\u001b[0m\u001b[0;34m.\u001b[0m\u001b[0mset_event_loop\u001b[0m\u001b[0;34m(\u001b[0m\u001b[0mold_loop\u001b[0m\u001b[0;34m)\u001b[0m\u001b[0;34m\u001b[0m\u001b[0;34m\u001b[0m\u001b[0m\n",
      "\u001b[0;32m~/.conda/envs/mamba/envs/spatial-analytics/lib/python3.9/asyncio/base_events.py\u001b[0m in \u001b[0;36mrun_forever\u001b[0;34m(self)\u001b[0m\n\u001b[1;32m    584\u001b[0m         \u001b[0;34m\"\"\"Run until stop() is called.\"\"\"\u001b[0m\u001b[0;34m\u001b[0m\u001b[0;34m\u001b[0m\u001b[0m\n\u001b[1;32m    585\u001b[0m         \u001b[0mself\u001b[0m\u001b[0;34m.\u001b[0m\u001b[0m_check_closed\u001b[0m\u001b[0;34m(\u001b[0m\u001b[0;34m)\u001b[0m\u001b[0;34m\u001b[0m\u001b[0;34m\u001b[0m\u001b[0m\n\u001b[0;32m--> 586\u001b[0;31m         \u001b[0mself\u001b[0m\u001b[0;34m.\u001b[0m\u001b[0m_check_running\u001b[0m\u001b[0;34m(\u001b[0m\u001b[0;34m)\u001b[0m\u001b[0;34m\u001b[0m\u001b[0;34m\u001b[0m\u001b[0m\n\u001b[0m\u001b[1;32m    587\u001b[0m         \u001b[0mself\u001b[0m\u001b[0;34m.\u001b[0m\u001b[0m_set_coroutine_origin_tracking\u001b[0m\u001b[0;34m(\u001b[0m\u001b[0mself\u001b[0m\u001b[0;34m.\u001b[0m\u001b[0m_debug\u001b[0m\u001b[0;34m)\u001b[0m\u001b[0;34m\u001b[0m\u001b[0;34m\u001b[0m\u001b[0m\n\u001b[1;32m    588\u001b[0m         \u001b[0mself\u001b[0m\u001b[0;34m.\u001b[0m\u001b[0m_thread_id\u001b[0m \u001b[0;34m=\u001b[0m \u001b[0mthreading\u001b[0m\u001b[0;34m.\u001b[0m\u001b[0mget_ident\u001b[0m\u001b[0;34m(\u001b[0m\u001b[0;34m)\u001b[0m\u001b[0;34m\u001b[0m\u001b[0;34m\u001b[0m\u001b[0m\n",
      "\u001b[0;32m~/.conda/envs/mamba/envs/spatial-analytics/lib/python3.9/asyncio/base_events.py\u001b[0m in \u001b[0;36m_check_running\u001b[0;34m(self)\u001b[0m\n\u001b[1;32m    576\u001b[0m     \u001b[0;32mdef\u001b[0m \u001b[0m_check_running\u001b[0m\u001b[0;34m(\u001b[0m\u001b[0mself\u001b[0m\u001b[0;34m)\u001b[0m\u001b[0;34m:\u001b[0m\u001b[0;34m\u001b[0m\u001b[0;34m\u001b[0m\u001b[0m\n\u001b[1;32m    577\u001b[0m         \u001b[0;32mif\u001b[0m \u001b[0mself\u001b[0m\u001b[0;34m.\u001b[0m\u001b[0mis_running\u001b[0m\u001b[0;34m(\u001b[0m\u001b[0;34m)\u001b[0m\u001b[0;34m:\u001b[0m\u001b[0;34m\u001b[0m\u001b[0;34m\u001b[0m\u001b[0m\n\u001b[0;32m--> 578\u001b[0;31m             \u001b[0;32mraise\u001b[0m \u001b[0mRuntimeError\u001b[0m\u001b[0;34m(\u001b[0m\u001b[0;34m'This event loop is already running'\u001b[0m\u001b[0;34m)\u001b[0m\u001b[0;34m\u001b[0m\u001b[0;34m\u001b[0m\u001b[0m\n\u001b[0m\u001b[1;32m    579\u001b[0m         \u001b[0;32mif\u001b[0m \u001b[0mevents\u001b[0m\u001b[0;34m.\u001b[0m\u001b[0m_get_running_loop\u001b[0m\u001b[0;34m(\u001b[0m\u001b[0;34m)\u001b[0m \u001b[0;32mis\u001b[0m \u001b[0;32mnot\u001b[0m \u001b[0;32mNone\u001b[0m\u001b[0;34m:\u001b[0m\u001b[0;34m\u001b[0m\u001b[0;34m\u001b[0m\u001b[0m\n\u001b[1;32m    580\u001b[0m             raise RuntimeError(\n",
      "\u001b[0;31mRuntimeError\u001b[0m: This event loop is already running"
     ]
    },
    {
     "name": "stdout",
     "output_type": "stream",
     "text": [
      "Socket opened!\n",
      "{\"type\":\"reset\"}\n",
      "{\"type\":\"get_step\",\"step\":1}\n",
      "{\"type\":\"get_step\",\"step\":2}\n",
      "{\"type\":\"get_step\",\"step\":3}\n",
      "{\"type\":\"get_step\",\"step\":4}\n",
      "{\"type\":\"get_step\",\"step\":5}\n",
      "{\"type\":\"get_step\",\"step\":6}\n",
      "{\"type\":\"get_step\",\"step\":7}\n",
      "{\"type\":\"get_step\",\"step\":8}\n",
      "{\"type\":\"get_step\",\"step\":9}\n",
      "{\"type\":\"get_step\",\"step\":10}\n",
      "{\"type\":\"get_step\",\"step\":11}\n",
      "{\"type\":\"get_step\",\"step\":12}\n",
      "{\"type\":\"get_step\",\"step\":13}\n",
      "{\"type\":\"get_step\",\"step\":14}\n",
      "{\"type\":\"get_step\",\"step\":15}\n",
      "{\"type\":\"get_step\",\"step\":16}\n",
      "{\"type\":\"get_step\",\"step\":17}\n",
      "{\"type\":\"get_step\",\"step\":18}\n",
      "{\"type\":\"get_step\",\"step\":19}\n",
      "{\"type\":\"get_step\",\"step\":20}\n",
      "{\"type\":\"get_step\",\"step\":21}\n",
      "{\"type\":\"get_step\",\"step\":22}\n",
      "{\"type\":\"get_step\",\"step\":23}\n",
      "{\"type\":\"get_step\",\"step\":24}\n",
      "{\"type\":\"get_step\",\"step\":25}\n",
      "{\"type\":\"get_step\",\"step\":26}\n",
      "{\"type\":\"get_step\",\"step\":27}\n",
      "{\"type\":\"get_step\",\"step\":28}\n",
      "{\"type\":\"get_step\",\"step\":29}\n",
      "{\"type\":\"get_step\",\"step\":30}\n",
      "{\"type\":\"get_step\",\"step\":31}\n",
      "{\"type\":\"get_step\",\"step\":32}\n",
      "{\"type\":\"get_step\",\"step\":33}\n",
      "{\"type\":\"get_step\",\"step\":34}\n",
      "{\"type\":\"get_step\",\"step\":35}\n",
      "{\"type\":\"get_step\",\"step\":36}\n",
      "{\"type\":\"get_step\",\"step\":37}\n",
      "{\"type\":\"get_step\",\"step\":38}\n",
      "{\"type\":\"get_step\",\"step\":39}\n",
      "{\"type\":\"get_step\",\"step\":40}\n",
      "{\"type\":\"get_step\",\"step\":41}\n",
      "{\"type\":\"get_step\",\"step\":42}\n",
      "{\"type\":\"get_step\",\"step\":43}\n",
      "{\"type\":\"get_step\",\"step\":44}\n",
      "{\"type\":\"get_step\",\"step\":45}\n",
      "{\"type\":\"get_step\",\"step\":46}\n",
      "{\"type\":\"get_step\",\"step\":47}\n",
      "{\"type\":\"get_step\",\"step\":48}\n",
      "{\"type\":\"get_step\",\"step\":49}\n",
      "{\"type\":\"get_step\",\"step\":50}\n",
      "{\"type\":\"get_step\",\"step\":51}\n",
      "{\"type\":\"get_step\",\"step\":52}\n",
      "{\"type\":\"get_step\",\"step\":53}\n",
      "{\"type\":\"get_step\",\"step\":54}\n",
      "{\"type\":\"get_step\",\"step\":55}\n",
      "{\"type\":\"get_step\",\"step\":56}\n",
      "{\"type\":\"get_step\",\"step\":57}\n",
      "{\"type\":\"get_step\",\"step\":58}\n",
      "{\"type\":\"get_step\",\"step\":59}\n",
      "{\"type\":\"get_step\",\"step\":60}\n",
      "{\"type\":\"get_step\",\"step\":61}\n",
      "{\"type\":\"get_step\",\"step\":62}\n",
      "{\"type\":\"get_step\",\"step\":63}\n",
      "{\"type\":\"get_step\",\"step\":64}\n",
      "{\"type\":\"get_step\",\"step\":65}\n",
      "{\"type\":\"get_step\",\"step\":66}\n",
      "{\"type\":\"get_step\",\"step\":67}\n",
      "{\"type\":\"get_step\",\"step\":68}\n",
      "{\"type\":\"get_step\",\"step\":69}\n",
      "{\"type\":\"get_step\",\"step\":70}\n",
      "{\"type\":\"get_step\",\"step\":71}\n",
      "{\"type\":\"get_step\",\"step\":72}\n",
      "{\"type\":\"get_step\",\"step\":73}\n",
      "{\"type\":\"get_step\",\"step\":74}\n",
      "{\"type\":\"get_step\",\"step\":75}\n",
      "{\"type\":\"get_step\",\"step\":76}\n",
      "{\"type\":\"get_step\",\"step\":77}\n",
      "{\"type\":\"get_step\",\"step\":78}\n",
      "{\"type\":\"get_step\",\"step\":79}\n",
      "{\"type\":\"get_step\",\"step\":80}\n",
      "{\"type\":\"get_step\",\"step\":81}\n",
      "{\"type\":\"get_step\",\"step\":82}\n",
      "{\"type\":\"get_step\",\"step\":83}\n",
      "{\"type\":\"get_step\",\"step\":84}\n",
      "{\"type\":\"get_step\",\"step\":85}\n",
      "{\"type\":\"get_step\",\"step\":86}\n",
      "{\"type\":\"get_step\",\"step\":87}\n",
      "{\"type\":\"get_step\",\"step\":88}\n",
      "{\"type\":\"get_step\",\"step\":89}\n",
      "{\"type\":\"get_step\",\"step\":90}\n",
      "{\"type\":\"get_step\",\"step\":91}\n",
      "{\"type\":\"get_step\",\"step\":92}\n",
      "{\"type\":\"get_step\",\"step\":93}\n",
      "{\"type\":\"get_step\",\"step\":94}\n",
      "{\"type\":\"get_step\",\"step\":95}\n",
      "{\"type\":\"get_step\",\"step\":96}\n",
      "{\"type\":\"get_step\",\"step\":97}\n",
      "{\"type\":\"get_step\",\"step\":98}\n",
      "{\"type\":\"get_step\",\"step\":99}\n",
      "{\"type\":\"get_step\",\"step\":100}\n",
      "{\"type\":\"get_step\",\"step\":101}\n",
      "{\"type\":\"get_step\",\"step\":102}\n",
      "{\"type\":\"get_step\",\"step\":103}\n",
      "{\"type\":\"get_step\",\"step\":104}\n",
      "{\"type\":\"get_step\",\"step\":105}\n",
      "{\"type\":\"get_step\",\"step\":106}\n",
      "{\"type\":\"get_step\",\"step\":107}\n",
      "{\"type\":\"get_step\",\"step\":108}\n",
      "{\"type\":\"get_step\",\"step\":109}\n",
      "{\"type\":\"get_step\",\"step\":110}\n",
      "{\"type\":\"get_step\",\"step\":111}\n",
      "{\"type\":\"get_step\",\"step\":112}\n",
      "{\"type\":\"get_step\",\"step\":113}\n",
      "{\"type\":\"get_step\",\"step\":114}\n",
      "{\"type\":\"get_step\",\"step\":115}\n",
      "{\"type\":\"get_step\",\"step\":116}\n",
      "{\"type\":\"get_step\",\"step\":117}\n",
      "{\"type\":\"get_step\",\"step\":118}\n",
      "{\"type\":\"get_step\",\"step\":119}\n",
      "{\"type\":\"get_step\",\"step\":120}\n",
      "{\"type\":\"get_step\",\"step\":121}\n",
      "{\"type\":\"get_step\",\"step\":122}\n",
      "{\"type\":\"get_step\",\"step\":123}\n",
      "{\"type\":\"get_step\",\"step\":124}\n",
      "{\"type\":\"get_step\",\"step\":125}\n",
      "{\"type\":\"get_step\",\"step\":126}\n",
      "{\"type\":\"get_step\",\"step\":127}\n",
      "{\"type\":\"get_step\",\"step\":128}\n",
      "{\"type\":\"get_step\",\"step\":129}\n",
      "{\"type\":\"get_step\",\"step\":130}\n",
      "{\"type\":\"get_step\",\"step\":131}\n",
      "{\"type\":\"get_step\",\"step\":132}\n",
      "{\"type\":\"get_step\",\"step\":133}\n",
      "{\"type\":\"get_step\",\"step\":134}\n",
      "{\"type\":\"get_step\",\"step\":135}\n",
      "{\"type\":\"get_step\",\"step\":136}\n",
      "{\"type\":\"get_step\",\"step\":137}\n",
      "{\"type\":\"get_step\",\"step\":138}\n",
      "{\"type\":\"get_step\",\"step\":139}\n",
      "{\"type\":\"get_step\",\"step\":140}\n",
      "{\"type\":\"get_step\",\"step\":141}\n",
      "{\"type\":\"get_step\",\"step\":142}\n",
      "{\"type\":\"get_step\",\"step\":143}\n",
      "{\"type\":\"get_step\",\"step\":144}\n",
      "{\"type\":\"get_step\",\"step\":145}\n",
      "{\"type\":\"get_step\",\"step\":146}\n",
      "{\"type\":\"get_step\",\"step\":147}\n",
      "{\"type\":\"get_step\",\"step\":148}\n",
      "{\"type\":\"get_step\",\"step\":149}\n",
      "{\"type\":\"get_step\",\"step\":150}\n",
      "{\"type\":\"get_step\",\"step\":151}\n",
      "{\"type\":\"get_step\",\"step\":152}\n",
      "{\"type\":\"get_step\",\"step\":153}\n",
      "{\"type\":\"get_step\",\"step\":154}\n",
      "{\"type\":\"get_step\",\"step\":155}\n",
      "{\"type\":\"get_step\",\"step\":156}\n",
      "{\"type\":\"get_step\",\"step\":157}\n",
      "{\"type\":\"get_step\",\"step\":158}\n",
      "{\"type\":\"get_step\",\"step\":159}\n",
      "{\"type\":\"get_step\",\"step\":160}\n",
      "{\"type\":\"get_step\",\"step\":161}\n",
      "{\"type\":\"get_step\",\"step\":162}\n",
      "{\"type\":\"get_step\",\"step\":163}\n",
      "{\"type\":\"get_step\",\"step\":164}\n",
      "{\"type\":\"get_step\",\"step\":165}\n",
      "{\"type\":\"get_step\",\"step\":166}\n",
      "{\"type\":\"get_step\",\"step\":167}\n",
      "{\"type\":\"get_step\",\"step\":168}\n",
      "{\"type\":\"get_step\",\"step\":169}\n",
      "{\"type\":\"get_step\",\"step\":170}\n",
      "{\"type\":\"get_step\",\"step\":171}\n",
      "{\"type\":\"get_step\",\"step\":172}\n",
      "{\"type\":\"get_step\",\"step\":173}\n",
      "{\"type\":\"get_step\",\"step\":174}\n",
      "{\"type\":\"get_step\",\"step\":175}\n",
      "{\"type\":\"get_step\",\"step\":176}\n",
      "{\"type\":\"get_step\",\"step\":177}\n",
      "{\"type\":\"get_step\",\"step\":178}\n",
      "{\"type\":\"get_step\",\"step\":179}\n",
      "{\"type\":\"get_step\",\"step\":180}\n",
      "{\"type\":\"get_step\",\"step\":181}\n",
      "{\"type\":\"get_step\",\"step\":182}\n",
      "{\"type\":\"get_step\",\"step\":183}\n",
      "{\"type\":\"get_step\",\"step\":184}\n",
      "{\"type\":\"get_step\",\"step\":185}\n",
      "{\"type\":\"get_step\",\"step\":186}\n",
      "{\"type\":\"get_step\",\"step\":187}\n",
      "{\"type\":\"get_step\",\"step\":188}\n",
      "{\"type\":\"get_step\",\"step\":189}\n",
      "{\"type\":\"get_step\",\"step\":190}\n",
      "{\"type\":\"get_step\",\"step\":191}\n",
      "{\"type\":\"get_step\",\"step\":192}\n",
      "{\"type\":\"get_step\",\"step\":193}\n",
      "{\"type\":\"get_step\",\"step\":194}\n",
      "{\"type\":\"get_step\",\"step\":195}\n",
      "{\"type\":\"get_step\",\"step\":196}\n",
      "{\"type\":\"get_step\",\"step\":197}\n",
      "{\"type\":\"get_step\",\"step\":198}\n",
      "{\"type\":\"get_step\",\"step\":199}\n",
      "{\"type\":\"get_step\",\"step\":200}\n",
      "{\"type\":\"get_step\",\"step\":201}\n",
      "{\"type\":\"get_step\",\"step\":202}\n",
      "{\"type\":\"get_step\",\"step\":203}\n",
      "{\"type\":\"get_step\",\"step\":204}\n",
      "{\"type\":\"get_step\",\"step\":205}\n",
      "{\"type\":\"get_step\",\"step\":206}\n",
      "{\"type\":\"get_step\",\"step\":207}\n",
      "{\"type\":\"get_step\",\"step\":208}\n",
      "{\"type\":\"get_step\",\"step\":209}\n",
      "{\"type\":\"get_step\",\"step\":210}\n",
      "{\"type\":\"get_step\",\"step\":211}\n",
      "{\"type\":\"get_step\",\"step\":212}\n",
      "{\"type\":\"get_step\",\"step\":213}\n",
      "{\"type\":\"get_step\",\"step\":214}\n",
      "{\"type\":\"get_step\",\"step\":215}\n",
      "{\"type\":\"get_step\",\"step\":216}\n",
      "{\"type\":\"get_step\",\"step\":217}\n",
      "{\"type\":\"get_step\",\"step\":218}\n",
      "{\"type\":\"get_step\",\"step\":219}\n",
      "{\"type\":\"get_step\",\"step\":220}\n",
      "{\"type\":\"get_step\",\"step\":221}\n",
      "{\"type\":\"get_step\",\"step\":222}\n",
      "{\"type\":\"get_step\",\"step\":223}\n",
      "{\"type\":\"get_step\",\"step\":224}\n",
      "{\"type\":\"get_step\",\"step\":225}\n",
      "{\"type\":\"get_step\",\"step\":226}\n",
      "{\"type\":\"get_step\",\"step\":227}\n",
      "{\"type\":\"get_step\",\"step\":228}\n",
      "{\"type\":\"get_step\",\"step\":229}\n",
      "{\"type\":\"get_step\",\"step\":230}\n",
      "{\"type\":\"get_step\",\"step\":231}\n",
      "{\"type\":\"get_step\",\"step\":232}\n",
      "{\"type\":\"get_step\",\"step\":233}\n",
      "{\"type\":\"get_step\",\"step\":234}\n"
     ]
    }
   ],
   "source": [
    "chart = ChartModule([{\"Label\": \"Gini\",\n",
    "                      \"Color\": \"Black\"}],\n",
    "                    data_collector_name='datacollector')\n",
    "\n",
    "server = ModularServer(MoneyModel,\n",
    "                       [grid, chart],\n",
    "                       \"Money Model\",\n",
    "                       {\"N\":100, \"width\":10, \"height\":10})\n",
    "\n",
    "server.port = 8522 # The default\n",
    "server.launch();"
   ]
  },
  {
   "cell_type": "code",
   "execution_count": null,
   "id": "e8d82107-c333-4a6b-b149-4e4e96243508",
   "metadata": {},
   "outputs": [],
   "source": []
  }
 ],
 "metadata": {
  "kernelspec": {
   "display_name": "Python 3 (ipykernel)",
   "language": "python",
   "name": "python3"
  },
  "language_info": {
   "codemirror_mode": {
    "name": "ipython",
    "version": 3
   },
   "file_extension": ".py",
   "mimetype": "text/x-python",
   "name": "python",
   "nbconvert_exporter": "python",
   "pygments_lexer": "ipython3",
   "version": "3.9.7"
  }
 },
 "nbformat": 4,
 "nbformat_minor": 5
}
